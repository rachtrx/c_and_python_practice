{
 "cells": [
  {
   "cell_type": "code",
   "execution_count": 1,
   "metadata": {},
   "outputs": [],
   "source": [
    "def say_hello(name):\n",
    "    return f\"Hello {name}\"\n",
    "\n",
    "def be_awesome(name):\n",
    "    return f\"Yo {name}, together we are awesome\"\n",
    "\n",
    "def greet_bob(greeter_func):\n",
    "    return greeter_func(\"Bob\")"
   ]
  },
  {
   "cell_type": "code",
   "execution_count": 2,
   "metadata": {},
   "outputs": [],
   "source": [
    "def parent(num):\n",
    "    def first_child():\n",
    "        return \"Hi I am Emma\"\n",
    "    def second_child():\n",
    "        return \"Call me Liam\"\n",
    "    \n",
    "    if num == 1:\n",
    "        return first_child\n",
    "    else:\n",
    "        return second_child"
   ]
  },
  {
   "cell_type": "code",
   "execution_count": 3,
   "metadata": {},
   "outputs": [],
   "source": [
    "# SECTION simple decorators\n",
    "\n",
    "def my_decorator(func):\n",
    "    def wrapper():\n",
    "        print(\"before func\")\n",
    "        func()\n",
    "        print(\"after func\")\n",
    "    return wrapper\n",
    "\n",
    "def say_whee2():\n",
    "    print(\"whee\")\n",
    "\n",
    "say_whee2 = my_decorator(say_whee2)"
   ]
  },
  {
   "cell_type": "code",
   "execution_count": 4,
   "metadata": {},
   "outputs": [],
   "source": [
    "# SECTION reusing decorators\n",
    "def do_twice(func):\n",
    "    def wrapper_do_twice(*args, **kwargs): #IMPT return a function that accepts arguements!\n",
    "        func(*args, **kwargs)\n",
    "        return func(*args, **kwargs) # IMPT this will allow the decorated function to continue returning values\n",
    "    return wrapper_do_twice\n",
    "\n",
    "# call this from decorators2.py! SECTION go to decorators2.py"
   ]
  },
  {
   "cell_type": "code",
   "execution_count": 5,
   "metadata": {},
   "outputs": [
    {
     "name": "stdout",
     "output_type": "stream",
     "text": [
      "Hello Bob\n",
      "Yo Bob, together we are awesome\n",
      "<function parent.<locals>.first_child at 0x7f8525e7ef20>\n",
      "<function parent.<locals>.second_child at 0x7f8525e7efc0>\n",
      "Hi I am Emma\n",
      "Call me Liam\n",
      "before func\n",
      "whee\n",
      "after func\n",
      "None\n",
      "<function my_decorator.<locals>.wrapper at 0x7f8525e7ec00>\n"
     ]
    }
   ],
   "source": [
    "if __name__ == \"__main__\":\n",
    "    print(greet_bob(say_hello)) # Hello Bob\n",
    "    print(greet_bob(be_awesome)) # Yo Bob, together we are awesome\n",
    "\n",
    "    print(parent(1)) # <function parent.<locals>.first_child at 0x7f885657a7a0>\n",
    "    print(parent(2)) # <function parent.<locals>.second_child at 0x7f885657a830>\n",
    "    print(parent(1)())\n",
    "    print(parent(2)())\n",
    "\n",
    "    print(say_whee2()) # IMPT prints None at the end because say_whee2 is now wrapper which returns nothing\n",
    "    print(say_whee2) # IMPT <function my_decorator.<locals>.wrapper at 0x7fb323e668c0>"
   ]
  },
  {
   "cell_type": "code",
   "execution_count": 14,
   "metadata": {},
   "outputs": [],
   "source": [
    "# SECTION continuation from 1decorators\n",
    "\n",
    "@do_twice\n",
    "def say_whee():\n",
    "    print(\"whee\")\n",
    "\n",
    "@do_twice\n",
    "def greet(name):\n",
    "    print(f\"hello {name}\")"
   ]
  },
  {
   "cell_type": "code",
   "execution_count": 16,
   "metadata": {},
   "outputs": [],
   "source": [
    "# SECTION returning values from decorated functions\n",
    "@do_twice\n",
    "def return_greeting(name):\n",
    "    print(\"Creating greeting\")\n",
    "    return f\"Hi {name}\" #IMPT this return statement means the wrapper in the decorator must return the original function"
   ]
  },
  {
   "cell_type": "code",
   "execution_count": 18,
   "metadata": {},
   "outputs": [
    {
     "name": "stdout",
     "output_type": "stream",
     "text": [
      "whee\n",
      "whee\n",
      "hello world\n",
      "hello world\n",
      "Creating greeting\n",
      "Creating greeting\n",
      "Hi Adam\n",
      "Help on built-in function print in module builtins:\n",
      "\n",
      "print(*args, sep=' ', end='\\n', file=None, flush=False)\n",
      "    Prints the values to a stream, or to sys.stdout by default.\n",
      "    \n",
      "    sep\n",
      "      string inserted between values, default a space.\n",
      "    end\n",
      "      string appended after the last value, default a newline.\n",
      "    file\n",
      "      a file-like object (stream); defaults to the current sys.stdout.\n",
      "    flush\n",
      "      whether to forcibly flush the stream.\n",
      "\n",
      "Help on function wrapper_do_twice in module decorators1:\n",
      "\n",
      "wrapper_do_twice(*args, **kwargs)\n",
      "\n"
     ]
    }
   ],
   "source": [
    "if __name__ == \"__main__\":\n",
    "    say_whee()\n",
    "    greet(\"world\") # IMPT this works because wrapper_do_twice that was returned accepts args and kwargs!\n",
    "    hi_adam = return_greeting(\"Adam\")\n",
    "    print(hi_adam)\n",
    "\n",
    "    #SECTION checking on __name__ and using ...\n",
    "    print\n",
    "    print.__name__\n",
    "    help(print) # press 'q' to continue\n",
    "    # IMPT we can use this for defined functions\n",
    "    say_whee\n",
    "    say_whee.__name__\n",
    "    help(say_whee) # IMPT Help on function wrapper_do_twice in module decorators1:wrapper_do_twice(*args, **kwargs)\n",
    "    #IMPT we will see how we can change the name back in decorators3!"
   ]
  },
  {
   "cell_type": "code",
   "execution_count": 20,
   "metadata": {},
   "outputs": [],
   "source": [
    "import functools\n",
    "import time\n",
    "\n",
    "# SECTION make say_whee() to still be itself after decoration\n",
    "\n",
    "def do_twice(func):\n",
    "    @functools.wraps(func) # IMPT \n",
    "    def wrapper_do_twice(*args, **kwargs):\n",
    "        func(*args, **kwargs)\n",
    "        return func(*args, **kwargs)\n",
    "    return wrapper_do_twice\n",
    "\n",
    "@do_twice\n",
    "def say_whee():\n",
    "    print(\"whee\")"
   ]
  },
  {
   "cell_type": "code",
   "execution_count": 21,
   "metadata": {},
   "outputs": [],
   "source": [
    "# SECTION IMPT a good boilerplate:\n",
    "def decorator(func):\n",
    "    @functools.wraps(func)\n",
    "    def wrapper_decorator(*args, **kwargs):\n",
    "        # do something\n",
    "        value = func(*args, **kwargs)\n",
    "        # do something\n",
    "        return value\n",
    "    return wrapper_decorator"
   ]
  },
  {
   "cell_type": "code",
   "execution_count": 23,
   "metadata": {},
   "outputs": [],
   "source": [
    "# SECTION timer decorator\n",
    "def timer(func):\n",
    "    \"\"\"Print the runtime of the decorated function\"\"\"\n",
    "    @functools.wraps(func)\n",
    "    def wrapper_timer(*args, **kwargs):\n",
    "        start_time = time.perf_counter()\n",
    "        value = func(*args, **kwargs)\n",
    "        end_time = time.perf_counter()\n",
    "        run_time = end_time - start_time\n",
    "        print(f\"Finished {func.__name__!r} in {run_time:.4f} secs\")\n",
    "        return value\n",
    "    return wrapper_timer\n",
    "\n",
    "@timer\n",
    "def waste_some_time(num_times):\n",
    "    for _ in range(num_times):\n",
    "        sum([i**2 for i in range(10000)])"
   ]
  },
  {
   "cell_type": "code",
   "execution_count": 24,
   "metadata": {},
   "outputs": [
    {
     "name": "stdout",
     "output_type": "stream",
     "text": [
      "Help on function say_whee in module __main__:\n",
      "\n",
      "say_whee()\n",
      "\n",
      "whee\n",
      "whee\n",
      "Finished 'waste_some_time' in 0.0004 secs\n",
      "Finished 'waste_some_time' in 0.2908 secs\n"
     ]
    }
   ],
   "source": [
    "if __name__ == \"__main__\":\n",
    "    say_whee\n",
    "    say_whee.__name__\n",
    "    help(say_whee)\n",
    "    say_whee()\n",
    "    waste_some_time(1)\n",
    "    waste_some_time(999)"
   ]
  },
  {
   "cell_type": "code",
   "execution_count": 25,
   "metadata": {},
   "outputs": [],
   "source": [
    "# SECTION debugging code\n",
    "\n",
    "import functools\n",
    "import math\n",
    "\n",
    "def debug(func):\n",
    "    @functools.wraps(func)\n",
    "    def wrapper_debug(*args, **kwargs):\n",
    "        args_repr = [repr(a) for a in args] #IMPT list of positional arguments in string\n",
    "        kwargs_repr = [f\"{k}={v!r}\" for k, v in kwargs.items()] # IMPTTODOlist of keyyword arguments, !r means that repr() is used to represent the value\n",
    "        signature = \", \".join(args_repr + kwargs_repr) #IMPT created by joining the string represenations of all arguments\n",
    "        print(f\"Calling {func.__name__}({signature})\")\n",
    "        value = func(*args, **kwargs)\n",
    "        print(f\"Calling {func.__name__!r} returned {value!r}\")\n",
    "        return value\n",
    "    return wrapper_debug\n",
    "\n",
    "@debug\n",
    "def make_greeting(name, age = None):\n",
    "    if age is None:\n",
    "        return f\"Howdy {name}!\"\n",
    "    else:\n",
    "        return f\"Whoa {name}! {age} already, you are growing up!\""
   ]
  },
  {
   "cell_type": "code",
   "execution_count": 26,
   "metadata": {},
   "outputs": [],
   "source": [
    "# SECTION applying debug to math function\n",
    "math.factorial = debug(math.factorial) # same as using decorator!\n",
    "\n",
    "def approximate_e(terms = 18):\n",
    "    print(sum(1 / math.factorial(n) for n in range(terms)))"
   ]
  },
  {
   "cell_type": "code",
   "execution_count": 27,
   "metadata": {},
   "outputs": [
    {
     "name": "stdout",
     "output_type": "stream",
     "text": [
      "Calling make_greeting('Benjamin')\n",
      "Calling 'make_greeting' returned 'Howdy Benjamin!'\n",
      "Calling make_greeting('Richard', age=112)\n",
      "Calling 'make_greeting' returned 'Whoa Richard! 112 already, you are growing up!'\n",
      "Calling make_greeting(name='Dorrisile', age=116)\n",
      "Calling 'make_greeting' returned 'Whoa Dorrisile! 116 already, you are growing up!'\n",
      "Calling factorial(0)\n",
      "Calling 'factorial' returned 1\n",
      "Calling factorial(1)\n",
      "Calling 'factorial' returned 1\n",
      "Calling factorial(2)\n",
      "Calling 'factorial' returned 2\n",
      "Calling factorial(3)\n",
      "Calling 'factorial' returned 6\n",
      "Calling factorial(4)\n",
      "Calling 'factorial' returned 24\n",
      "2.708333333333333\n"
     ]
    }
   ],
   "source": [
    "if __name__ == \"__main__\":\n",
    "    make_greeting(\"Benjamin\")\n",
    "    make_greeting(\"Richard\", age=112)\n",
    "    make_greeting(name=\"Dorrisile\", age=116)\n",
    "\n",
    "    # IMPT this will print the factorial function 5 times!\n",
    "    approximate_e(5)"
   ]
  },
  {
   "cell_type": "code",
   "execution_count": 28,
   "metadata": {},
   "outputs": [],
   "source": [
    "# SECTION SLOWING DOWN CODE\n",
    "import functools\n",
    "import time\n",
    "def slow_down(func):\n",
    "    \"\"\"Sleep 1 second before calling the function\"\"\"\n",
    "    @functools.wraps(func)\n",
    "    def wrapper_slow_down(*args, **kwargs):\n",
    "        time.sleep(1)\n",
    "        return func(*args, **kwargs)\n",
    "    return wrapper_slow_down\n",
    "\n",
    "@slow_down\n",
    "def countdown(from_number):\n",
    "    if from_number < 1:\n",
    "        print(\"Liftoff!\")\n",
    "    else:\n",
    "        print(from_number)\n",
    "        countdown(from_number - 1)"
   ]
  },
  {
   "cell_type": "markdown",
   "metadata": {},
   "source": [
    "#### Plugins: Decorators don’t have to wrap the function they’re decorating. They can also simply register that a function exists and return it unwrapped.\n",
    "\n",
    "#### note the syntax of random.choice(list(PLUGINS.items()))\n",
    "\n",
    ".items() returns a view object with pairs as tuples ie. dict_items([(k, v), (k, v)]). using list() converts the view object into a list [(k, v), (k, v)]"
   ]
  },
  {
   "cell_type": "code",
   "execution_count": 39,
   "metadata": {},
   "outputs": [],
   "source": [
    "# SECTION register plugins\n",
    "\n",
    "import random\n",
    "PLUGINS = dict()\n",
    "\n",
    "def register(func):\n",
    "    \"\"\"Register a function as a plug-in\"\"\"\n",
    "    PLUGINS[func.__name__] = func\n",
    "    return func # just returns the original function\n",
    "\n",
    "@register\n",
    "def say_hello(name):\n",
    "    return f\"Hello {name}\"\n",
    "\n",
    "@register\n",
    "def be_awesome(name):\n",
    "    return f\"Yo {name}, together we are awesome\"\n",
    "\n",
    "def randomly_greet(name):\n",
    "    greeter, greeter_func = random.choice(list(PLUGINS.items())) #IMPT note the syntax choose from the list a key-value to destructure. items() creates a view object\n",
    "    print(f\"Using {greeter!r}\")\n",
    "    return greeter_func(name)"
   ]
  },
  {
   "cell_type": "code",
   "execution_count": 44,
   "metadata": {},
   "outputs": [
    {
     "name": "stdout",
     "output_type": "stream",
     "text": [
      "3\n",
      "2\n",
      "1\n",
      "Liftoff!\n",
      "Using 'say_hello'\n",
      "Hello Alice\n",
      "None\n",
      "{'say_hello': <function say_hello at 0x7f8503f365c0>, 'be_awesome': <function be_awesome at 0x7f8503f37740>}\n",
      "{'__name__': '__main__', '__doc__': 'Automatically created module for IPython interactive environment', '__package__': None, '__loader__': None, '__spec__': None, '__builtin__': <module 'builtins' (built-in)>, '__builtins__': <module 'builtins' (built-in)>, '_ih': ['', 'def say_hello(name):\\n    return f\"Hello {name}\"\\n\\ndef be_awesome(name):\\n    return f\"Yo {name}, together we are awesome\"\\n\\ndef greet_bob(greeter_func):\\n    return greeter_func(\"Bob\")', 'def parent(num):\\n    def first_child():\\n        return \"Hi I am Emma\"\\n    def second_child():\\n        return \"Call me Liam\"\\n    \\n    if num == 1:\\n        return first_child\\n    else:\\n        return second_child', '# SECTION simple decorators\\n\\ndef my_decorator(func):\\n    def wrapper():\\n        print(\"before func\")\\n        func()\\n        print(\"after func\")\\n    return wrapper\\n\\ndef say_whee2():\\n    print(\"whee\")\\n\\nsay_whee2 = my_decorator(say_whee2)', '# SECTION reusing decorators\\ndef do_twice(func):\\n    def wrapper_do_twice(*args, **kwargs): #IMPT return a function that accepts arguements!\\n        func(*args, **kwargs)\\n        return func(*args, **kwargs) # IMPT this will allow the decorated function to continue returning values\\n    return wrapper_do_twice\\n\\n# call this from decorators2.py! SECTION go to decorators2.py', 'if __name__ == \"__main__\":\\n    print(greet_bob(say_hello)) # Hello Bob\\n    print(greet_bob(be_awesome)) # Yo Bob, together we are awesome\\n\\n    print(parent(1)) # <function parent.<locals>.first_child at 0x7f885657a7a0>\\n    print(parent(2)) # <function parent.<locals>.second_child at 0x7f885657a830>\\n    print(parent(1)())\\n    print(parent(2)())\\n\\n    print(say_whee2()) # IMPT prints None at the end because say_whee2 is now wrapper which returns nothing\\n    print(say_whee2) # IMPT <function my_decorator.<locals>.wrapper at 0x7fb323e668c0>', 'def do_twice(func):\\n    @functools.wraps(func) # IMPT \\n    def wrapper_do_twice(*args, **kwargs):\\n        func(*args, **kwargs)\\n        return func(*args, **kwargs)\\n    return wrapper_do_twice', '@do_twice\\ndef say_whee():\\n    print(\"whee\")', 'import functools\\ndef do_twice(func):\\n    @functools.wraps(func) # IMPT \\n    def wrapper_do_twice(*args, **kwargs):\\n        func(*args, **kwargs)\\n        return func(*args, **kwargs)\\n    return wrapper_do_twice', '@do_twice\\ndef say_whee():\\n    print(\"whee\")', 'if __name__ == \"__main__\":\\n    say_whee\\n    say_whee.__name__\\n    help(say_whee)\\n    say_whee()', '# SECTION continuation from 1decorators\\nfrom decorators1 import do_twice\\n\\n@do_twice\\ndef say_whee():\\n    print(\"whee\")\\n\\n@do_twice\\ndef greet(name):\\n    print(f\"hello {name}\")', '# SECTION returning values from decorated functions\\n@do_twice\\ndef return_greeting(name):\\n    print(\"Creating greeting\")\\n    return f\"Hi {name}\" #IMPT this return statement means the wrapper in the decorator must return the original function', 'if __name__ == \"__main__\":\\n    say_whee()\\n    greet(\"world\") # IMPT this works because wrapper_do_twice that was returned accepts args and kwargs!\\n    hi_adam = return_greeting(\"Adam\")\\n    print(hi_adam)\\n\\n    #SECTION checking on __name__ and using ...\\n    print\\n    print.__name__\\n    help(print) # press \\'q\\' to continue\\n    # IMPT we can use this for defined functions\\n    say_whee\\n    say_whee.__name__\\n    help(say_whee) # IMPT Help on function wrapper_do_twice in module decorators1:wrapper_do_twice(*args, **kwargs)\\n    #IMPT we will see how we can change the name back in decorators3!', '# SECTION continuation from 1decorators\\n\\n@do_twice\\ndef say_whee():\\n    print(\"whee\")\\n\\n@do_twice\\ndef greet(name):\\n    print(f\"hello {name}\")', '# SECTION returning values from decorated functions\\n@do_twice\\ndef return_greeting(name):\\n    print(\"Creating greeting\")\\n    return f\"Hi {name}\" #IMPT this return statement means the wrapper in the decorator must return the original function', '# SECTION returning values from decorated functions\\n@do_twice\\ndef return_greeting(name):\\n    print(\"Creating greeting\")\\n    return f\"Hi {name}\" #IMPT this return statement means the wrapper in the decorator must return the original function', 'if __name__ == \"__main__\":\\n    say_whee()\\n    greet(\"world\") # IMPT this works because wrapper_do_twice that was returned accepts args and kwargs!\\n    hi_adam = return_greeting(\"Adam\")\\n    print(hi_adam)\\n\\n    #SECTION checking on __name__ and using ...\\n    print\\n    print.__name__\\n    help(print) # press \\'q\\' to continue\\n    # IMPT we can use this for defined functions\\n    say_whee\\n    say_whee.__name__\\n    help(say_whee) # IMPT Help on function wrapper_do_twice in module decorators1:wrapper_do_twice(*args, **kwargs)\\n    #IMPT we will see how we can change the name back in decorators3!', 'if __name__ == \"__main__\":\\n    say_whee()\\n    greet(\"world\") # IMPT this works because wrapper_do_twice that was returned accepts args and kwargs!\\n    hi_adam = return_greeting(\"Adam\")\\n    print(hi_adam)\\n\\n    #SECTION checking on __name__ and using ...\\n    print\\n    print.__name__\\n    help(print) # press \\'q\\' to continue\\n    # IMPT we can use this for defined functions\\n    say_whee\\n    say_whee.__name__\\n    help(say_whee) # IMPT Help on function wrapper_do_twice in module decorators1:wrapper_do_twice(*args, **kwargs)\\n    #IMPT we will see how we can change the name back in decorators3!', 'import functools\\nimport time\\n\\n# SECTION make say_whee() to still be itself after decoration\\n\\ndef do_twice(func):\\n    @functools.wraps(func) # IMPT \\n    def wrapper_do_twice(*args, **kwargs):\\n        func(*args, **kwargs)\\n        return func(*args, **kwargs)\\n    return wrapper_do_twice', 'import functools\\nimport time\\n\\n# SECTION make say_whee() to still be itself after decoration\\n\\ndef do_twice(func):\\n    @functools.wraps(func) # IMPT \\n    def wrapper_do_twice(*args, **kwargs):\\n        func(*args, **kwargs)\\n        return func(*args, **kwargs)\\n    return wrapper_do_twice\\n\\n@do_twice\\ndef say_whee():\\n    print(\"whee\")', '# SECTION IMPT a good boilerplate:\\ndef decorator(func):\\n    @functools.wraps(func)\\n    def wrapper_decorator(*args, **kwargs):\\n        # do something\\n        value = func(*args, **kwargs)\\n        # do something\\n        return value\\n    return wrapper_decorator', '# SECTION timer decorator\\ndef timer(func):\\n    \"\"\"Print the runtime of the decorated function\"\"\"\\n    @functools.wraps(func)\\n    def wrapper_timer(*args, **kwargs):\\n        start_time = time.perf_counter()\\n        value = func(*args, **kwargs)\\n        end_time = time.perf_counter()\\n        run_time = end_time - start_time\\n        print(f\"Finished {func.__name__!r} in {run_time:.4f} secs\")\\n        return value\\n    return wrapper_timer', '# SECTION timer decorator\\ndef timer(func):\\n    \"\"\"Print the runtime of the decorated function\"\"\"\\n    @functools.wraps(func)\\n    def wrapper_timer(*args, **kwargs):\\n        start_time = time.perf_counter()\\n        value = func(*args, **kwargs)\\n        end_time = time.perf_counter()\\n        run_time = end_time - start_time\\n        print(f\"Finished {func.__name__!r} in {run_time:.4f} secs\")\\n        return value\\n    return wrapper_timer\\n\\n@timer\\ndef waste_some_time(num_times):\\n    for _ in range(num_times):\\n        sum([i**2 for i in range(10000)])', 'if __name__ == \"__main__\":\\n    say_whee\\n    say_whee.__name__\\n    help(say_whee)\\n    say_whee()\\n    waste_some_time(1)\\n    waste_some_time(999)', '# SECTION debugging code\\n\\nimport functools\\nimport math\\n\\ndef debug(func):\\n    @functools.wraps(func)\\n    def wrapper_debug(*args, **kwargs):\\n        args_repr = [repr(a) for a in args] #IMPT list of positional arguments in string\\n        kwargs_repr = [f\"{k}={v!r}\" for k, v in kwargs.items()] # IMPTTODOlist of keyyword arguments, !r means that repr() is used to represent the value\\n        signature = \", \".join(args_repr + kwargs_repr) #IMPT created by joining the string represenations of all arguments\\n        print(f\"Calling {func.__name__}({signature})\")\\n        value = func(*args, **kwargs)\\n        print(f\"Calling {func.__name__!r} returned {value!r}\")\\n        return value\\n    return wrapper_debug\\n\\n@debug\\ndef make_greeting(name, age = None):\\n    if age is None:\\n        return f\"Howdy {name}!\"\\n    else:\\n        return f\"Whoa {name}! {age} already, you are growing up!\"', '# SECTION applying debug to math function\\nmath.factorial = debug(math.factorial) # same as using decorator!\\n\\ndef approximate_e(terms = 18):\\n    print(sum(1 / math.factorial(n) for n in range(terms)))', 'if __name__ == \"__main__\":\\n    make_greeting(\"Benjamin\")\\n    make_greeting(\"Richard\", age=112)\\n    make_greeting(name=\"Dorrisile\", age=116)\\n\\n    # IMPT this will print the factorial function 5 times!\\n    approximate_e(5)', '# SECTION SLOWING DOWN CODE\\nimport functools\\nimport time\\ndef slow_down(func):\\n    \"\"\"Sleep 1 second before calling the function\"\"\"\\n    @functools.wraps(func)\\n    def wrapper_slow_down(*args, **kwargs):\\n        time.sleep(1)\\n        return func(*args, **kwargs)\\n    return wrapper_slow_down\\n\\n@slow_down\\ndef countdown(from_number):\\n    if from_number < 1:\\n        print(\"Liftoff!\")\\n    else:\\n        print(from_number)\\n        countdown(from_number - 1)', '# SECTION register plugins', 'if __name__ == \"__main__\":\\n    countdown(3)', 'if __name__ == \"__main__\":\\n    countdown(3)\\n    randomly_greet(\"Alice\")', '# SECTION register plugins\\n\\nimport random\\nPLUGINS = dict()\\n\\ndef register(func):\\n    \"\"\"Register a function as a plug-in\"\"\"\\n    PLUGINS[func.__name__] = func\\n    return func # just returns the original function\\n\\n@register\\ndef say_hello(name):\\n    return f\"Hello {name}\"\\n\\n@register\\ndef be_awesome(name):\\n    return f\"Yo {name}, together we are awesome\"\\n\\ndef randomly_greet(name):\\n    greeter, greeter_func = random.choice(list(PLUGINS.items()))\\n    print(f\"Using {greeter!r}\")\\n    return greeter_func(name)', 'if __name__ == \"__main__\":\\n    countdown(3)\\n    randomly_greet(\"Alice\")', '# SECTION register plugins\\n\\nimport random\\nPLUGINS = dict()\\n\\ndef register(func):\\n    \"\"\"Register a function as a plug-in\"\"\"\\n    PLUGINS[func.__name__] = func\\n    return func # just returns the original function\\n\\n@register\\ndef say_hello(name):\\n    return f\"Hello {name}\"\\n\\n@register\\ndef be_awesome(name):\\n    return f\"Yo {name}, together we are awesome\"\\n\\ndef randomly_greet(name):\\n    greeter, greeter_func = random.choice(list(PLUGINS.items()))\\n    print(f\"Using {greeter!r}\")\\n    return greeter_func(name)', 'if __name__ == \"__main__\":\\n    countdown(3)\\n    randomly_greet(\"Alice\")', '# SECTION register plugins\\n\\nimport random\\nPLUGINS = dict()\\n\\ndef register(func):\\n    \"\"\"Register a function as a plug-in\"\"\"\\n    PLUGINS[func.__name__] = func\\n    return func\\n\\n@register\\ndef say_hello(name):\\n    return f\"Hello {name}\"\\n\\n@register\\ndef be_awesome(name):\\n    return f\"Yo {name}, together we are the awesomest!\"\\n\\ndef randomly_greet(name):\\n    greeter, greeter_func = random.choice(list(PLUGINS.items()))\\n    print(f\"Using {greeter!r}\")\\n    return greeter_func(name)', 'if __name__ == \"__main__\":\\n    countdown(3)\\n    randomly_greet(\"Alice\")', 'if __name__ == \"__main__\":\\n    countdown(3)\\n    randomly_greet(\"Alice\")', '# SECTION register plugins\\n\\nimport random\\nPLUGINS = dict()\\n\\ndef register(func):\\n    \"\"\"Register a function as a plug-in\"\"\"\\n    PLUGINS[func.__name__] = func\\n    return func # just returns the original function\\n\\n@register\\ndef say_hello(name):\\n    return f\"Hello {name}\"\\n\\n@register\\ndef be_awesome(name):\\n    return f\"Yo {name}, together we are awesome\"\\n\\ndef randomly_greet(name):\\n    greeter, greeter_func = random.choice(list(PLUGINS.items()))\\n    print(f\"Using {greeter!r}\")\\n    print(greeter_func(name))', 'if __name__ == \"__main__\":\\n    countdown(3)\\n    randomly_greet(\"Alice\")', 'if __name__ == \"__main__\":\\n    countdown(3)\\n    randomly_greet(\"Alice\")', 'if __name__ == \"__main__\":\\n    countdown(3)\\n    randomly_greet(\"Alice\")', 'if __name__ == \"__main__\":\\n    countdown(3)\\n    print(randomly_greet(\"Alice\"))\\n    print(PLUGINS)', 'if __name__ == \"__main__\":\\n    countdown(3)\\n    print(randomly_greet(\"Alice\"))\\n    print(PLUGINS) # IMPT returns the dictionary\\n    print(globals()) # IMPT this gives access to all global variables, similar to PLUGINS'], '_oh': {}, '_dh': [PosixPath('/mnt/c/Users/rachm/OneDrive/Desktop/linux projects/nus_test/pydecorators'), PosixPath('/mnt/c/Users/rachm/OneDrive/Desktop/linux projects/nus_test/pydecorators')], 'In': ['', 'def say_hello(name):\\n    return f\"Hello {name}\"\\n\\ndef be_awesome(name):\\n    return f\"Yo {name}, together we are awesome\"\\n\\ndef greet_bob(greeter_func):\\n    return greeter_func(\"Bob\")', 'def parent(num):\\n    def first_child():\\n        return \"Hi I am Emma\"\\n    def second_child():\\n        return \"Call me Liam\"\\n    \\n    if num == 1:\\n        return first_child\\n    else:\\n        return second_child', '# SECTION simple decorators\\n\\ndef my_decorator(func):\\n    def wrapper():\\n        print(\"before func\")\\n        func()\\n        print(\"after func\")\\n    return wrapper\\n\\ndef say_whee2():\\n    print(\"whee\")\\n\\nsay_whee2 = my_decorator(say_whee2)', '# SECTION reusing decorators\\ndef do_twice(func):\\n    def wrapper_do_twice(*args, **kwargs): #IMPT return a function that accepts arguements!\\n        func(*args, **kwargs)\\n        return func(*args, **kwargs) # IMPT this will allow the decorated function to continue returning values\\n    return wrapper_do_twice\\n\\n# call this from decorators2.py! SECTION go to decorators2.py', 'if __name__ == \"__main__\":\\n    print(greet_bob(say_hello)) # Hello Bob\\n    print(greet_bob(be_awesome)) # Yo Bob, together we are awesome\\n\\n    print(parent(1)) # <function parent.<locals>.first_child at 0x7f885657a7a0>\\n    print(parent(2)) # <function parent.<locals>.second_child at 0x7f885657a830>\\n    print(parent(1)())\\n    print(parent(2)())\\n\\n    print(say_whee2()) # IMPT prints None at the end because say_whee2 is now wrapper which returns nothing\\n    print(say_whee2) # IMPT <function my_decorator.<locals>.wrapper at 0x7fb323e668c0>', 'def do_twice(func):\\n    @functools.wraps(func) # IMPT \\n    def wrapper_do_twice(*args, **kwargs):\\n        func(*args, **kwargs)\\n        return func(*args, **kwargs)\\n    return wrapper_do_twice', '@do_twice\\ndef say_whee():\\n    print(\"whee\")', 'import functools\\ndef do_twice(func):\\n    @functools.wraps(func) # IMPT \\n    def wrapper_do_twice(*args, **kwargs):\\n        func(*args, **kwargs)\\n        return func(*args, **kwargs)\\n    return wrapper_do_twice', '@do_twice\\ndef say_whee():\\n    print(\"whee\")', 'if __name__ == \"__main__\":\\n    say_whee\\n    say_whee.__name__\\n    help(say_whee)\\n    say_whee()', '# SECTION continuation from 1decorators\\nfrom decorators1 import do_twice\\n\\n@do_twice\\ndef say_whee():\\n    print(\"whee\")\\n\\n@do_twice\\ndef greet(name):\\n    print(f\"hello {name}\")', '# SECTION returning values from decorated functions\\n@do_twice\\ndef return_greeting(name):\\n    print(\"Creating greeting\")\\n    return f\"Hi {name}\" #IMPT this return statement means the wrapper in the decorator must return the original function', 'if __name__ == \"__main__\":\\n    say_whee()\\n    greet(\"world\") # IMPT this works because wrapper_do_twice that was returned accepts args and kwargs!\\n    hi_adam = return_greeting(\"Adam\")\\n    print(hi_adam)\\n\\n    #SECTION checking on __name__ and using ...\\n    print\\n    print.__name__\\n    help(print) # press \\'q\\' to continue\\n    # IMPT we can use this for defined functions\\n    say_whee\\n    say_whee.__name__\\n    help(say_whee) # IMPT Help on function wrapper_do_twice in module decorators1:wrapper_do_twice(*args, **kwargs)\\n    #IMPT we will see how we can change the name back in decorators3!', '# SECTION continuation from 1decorators\\n\\n@do_twice\\ndef say_whee():\\n    print(\"whee\")\\n\\n@do_twice\\ndef greet(name):\\n    print(f\"hello {name}\")', '# SECTION returning values from decorated functions\\n@do_twice\\ndef return_greeting(name):\\n    print(\"Creating greeting\")\\n    return f\"Hi {name}\" #IMPT this return statement means the wrapper in the decorator must return the original function', '# SECTION returning values from decorated functions\\n@do_twice\\ndef return_greeting(name):\\n    print(\"Creating greeting\")\\n    return f\"Hi {name}\" #IMPT this return statement means the wrapper in the decorator must return the original function', 'if __name__ == \"__main__\":\\n    say_whee()\\n    greet(\"world\") # IMPT this works because wrapper_do_twice that was returned accepts args and kwargs!\\n    hi_adam = return_greeting(\"Adam\")\\n    print(hi_adam)\\n\\n    #SECTION checking on __name__ and using ...\\n    print\\n    print.__name__\\n    help(print) # press \\'q\\' to continue\\n    # IMPT we can use this for defined functions\\n    say_whee\\n    say_whee.__name__\\n    help(say_whee) # IMPT Help on function wrapper_do_twice in module decorators1:wrapper_do_twice(*args, **kwargs)\\n    #IMPT we will see how we can change the name back in decorators3!', 'if __name__ == \"__main__\":\\n    say_whee()\\n    greet(\"world\") # IMPT this works because wrapper_do_twice that was returned accepts args and kwargs!\\n    hi_adam = return_greeting(\"Adam\")\\n    print(hi_adam)\\n\\n    #SECTION checking on __name__ and using ...\\n    print\\n    print.__name__\\n    help(print) # press \\'q\\' to continue\\n    # IMPT we can use this for defined functions\\n    say_whee\\n    say_whee.__name__\\n    help(say_whee) # IMPT Help on function wrapper_do_twice in module decorators1:wrapper_do_twice(*args, **kwargs)\\n    #IMPT we will see how we can change the name back in decorators3!', 'import functools\\nimport time\\n\\n# SECTION make say_whee() to still be itself after decoration\\n\\ndef do_twice(func):\\n    @functools.wraps(func) # IMPT \\n    def wrapper_do_twice(*args, **kwargs):\\n        func(*args, **kwargs)\\n        return func(*args, **kwargs)\\n    return wrapper_do_twice', 'import functools\\nimport time\\n\\n# SECTION make say_whee() to still be itself after decoration\\n\\ndef do_twice(func):\\n    @functools.wraps(func) # IMPT \\n    def wrapper_do_twice(*args, **kwargs):\\n        func(*args, **kwargs)\\n        return func(*args, **kwargs)\\n    return wrapper_do_twice\\n\\n@do_twice\\ndef say_whee():\\n    print(\"whee\")', '# SECTION IMPT a good boilerplate:\\ndef decorator(func):\\n    @functools.wraps(func)\\n    def wrapper_decorator(*args, **kwargs):\\n        # do something\\n        value = func(*args, **kwargs)\\n        # do something\\n        return value\\n    return wrapper_decorator', '# SECTION timer decorator\\ndef timer(func):\\n    \"\"\"Print the runtime of the decorated function\"\"\"\\n    @functools.wraps(func)\\n    def wrapper_timer(*args, **kwargs):\\n        start_time = time.perf_counter()\\n        value = func(*args, **kwargs)\\n        end_time = time.perf_counter()\\n        run_time = end_time - start_time\\n        print(f\"Finished {func.__name__!r} in {run_time:.4f} secs\")\\n        return value\\n    return wrapper_timer', '# SECTION timer decorator\\ndef timer(func):\\n    \"\"\"Print the runtime of the decorated function\"\"\"\\n    @functools.wraps(func)\\n    def wrapper_timer(*args, **kwargs):\\n        start_time = time.perf_counter()\\n        value = func(*args, **kwargs)\\n        end_time = time.perf_counter()\\n        run_time = end_time - start_time\\n        print(f\"Finished {func.__name__!r} in {run_time:.4f} secs\")\\n        return value\\n    return wrapper_timer\\n\\n@timer\\ndef waste_some_time(num_times):\\n    for _ in range(num_times):\\n        sum([i**2 for i in range(10000)])', 'if __name__ == \"__main__\":\\n    say_whee\\n    say_whee.__name__\\n    help(say_whee)\\n    say_whee()\\n    waste_some_time(1)\\n    waste_some_time(999)', '# SECTION debugging code\\n\\nimport functools\\nimport math\\n\\ndef debug(func):\\n    @functools.wraps(func)\\n    def wrapper_debug(*args, **kwargs):\\n        args_repr = [repr(a) for a in args] #IMPT list of positional arguments in string\\n        kwargs_repr = [f\"{k}={v!r}\" for k, v in kwargs.items()] # IMPTTODOlist of keyyword arguments, !r means that repr() is used to represent the value\\n        signature = \", \".join(args_repr + kwargs_repr) #IMPT created by joining the string represenations of all arguments\\n        print(f\"Calling {func.__name__}({signature})\")\\n        value = func(*args, **kwargs)\\n        print(f\"Calling {func.__name__!r} returned {value!r}\")\\n        return value\\n    return wrapper_debug\\n\\n@debug\\ndef make_greeting(name, age = None):\\n    if age is None:\\n        return f\"Howdy {name}!\"\\n    else:\\n        return f\"Whoa {name}! {age} already, you are growing up!\"', '# SECTION applying debug to math function\\nmath.factorial = debug(math.factorial) # same as using decorator!\\n\\ndef approximate_e(terms = 18):\\n    print(sum(1 / math.factorial(n) for n in range(terms)))', 'if __name__ == \"__main__\":\\n    make_greeting(\"Benjamin\")\\n    make_greeting(\"Richard\", age=112)\\n    make_greeting(name=\"Dorrisile\", age=116)\\n\\n    # IMPT this will print the factorial function 5 times!\\n    approximate_e(5)', '# SECTION SLOWING DOWN CODE\\nimport functools\\nimport time\\ndef slow_down(func):\\n    \"\"\"Sleep 1 second before calling the function\"\"\"\\n    @functools.wraps(func)\\n    def wrapper_slow_down(*args, **kwargs):\\n        time.sleep(1)\\n        return func(*args, **kwargs)\\n    return wrapper_slow_down\\n\\n@slow_down\\ndef countdown(from_number):\\n    if from_number < 1:\\n        print(\"Liftoff!\")\\n    else:\\n        print(from_number)\\n        countdown(from_number - 1)', '# SECTION register plugins', 'if __name__ == \"__main__\":\\n    countdown(3)', 'if __name__ == \"__main__\":\\n    countdown(3)\\n    randomly_greet(\"Alice\")', '# SECTION register plugins\\n\\nimport random\\nPLUGINS = dict()\\n\\ndef register(func):\\n    \"\"\"Register a function as a plug-in\"\"\"\\n    PLUGINS[func.__name__] = func\\n    return func # just returns the original function\\n\\n@register\\ndef say_hello(name):\\n    return f\"Hello {name}\"\\n\\n@register\\ndef be_awesome(name):\\n    return f\"Yo {name}, together we are awesome\"\\n\\ndef randomly_greet(name):\\n    greeter, greeter_func = random.choice(list(PLUGINS.items()))\\n    print(f\"Using {greeter!r}\")\\n    return greeter_func(name)', 'if __name__ == \"__main__\":\\n    countdown(3)\\n    randomly_greet(\"Alice\")', '# SECTION register plugins\\n\\nimport random\\nPLUGINS = dict()\\n\\ndef register(func):\\n    \"\"\"Register a function as a plug-in\"\"\"\\n    PLUGINS[func.__name__] = func\\n    return func # just returns the original function\\n\\n@register\\ndef say_hello(name):\\n    return f\"Hello {name}\"\\n\\n@register\\ndef be_awesome(name):\\n    return f\"Yo {name}, together we are awesome\"\\n\\ndef randomly_greet(name):\\n    greeter, greeter_func = random.choice(list(PLUGINS.items()))\\n    print(f\"Using {greeter!r}\")\\n    return greeter_func(name)', 'if __name__ == \"__main__\":\\n    countdown(3)\\n    randomly_greet(\"Alice\")', '# SECTION register plugins\\n\\nimport random\\nPLUGINS = dict()\\n\\ndef register(func):\\n    \"\"\"Register a function as a plug-in\"\"\"\\n    PLUGINS[func.__name__] = func\\n    return func\\n\\n@register\\ndef say_hello(name):\\n    return f\"Hello {name}\"\\n\\n@register\\ndef be_awesome(name):\\n    return f\"Yo {name}, together we are the awesomest!\"\\n\\ndef randomly_greet(name):\\n    greeter, greeter_func = random.choice(list(PLUGINS.items()))\\n    print(f\"Using {greeter!r}\")\\n    return greeter_func(name)', 'if __name__ == \"__main__\":\\n    countdown(3)\\n    randomly_greet(\"Alice\")', 'if __name__ == \"__main__\":\\n    countdown(3)\\n    randomly_greet(\"Alice\")', '# SECTION register plugins\\n\\nimport random\\nPLUGINS = dict()\\n\\ndef register(func):\\n    \"\"\"Register a function as a plug-in\"\"\"\\n    PLUGINS[func.__name__] = func\\n    return func # just returns the original function\\n\\n@register\\ndef say_hello(name):\\n    return f\"Hello {name}\"\\n\\n@register\\ndef be_awesome(name):\\n    return f\"Yo {name}, together we are awesome\"\\n\\ndef randomly_greet(name):\\n    greeter, greeter_func = random.choice(list(PLUGINS.items()))\\n    print(f\"Using {greeter!r}\")\\n    print(greeter_func(name))', 'if __name__ == \"__main__\":\\n    countdown(3)\\n    randomly_greet(\"Alice\")', 'if __name__ == \"__main__\":\\n    countdown(3)\\n    randomly_greet(\"Alice\")', 'if __name__ == \"__main__\":\\n    countdown(3)\\n    randomly_greet(\"Alice\")', 'if __name__ == \"__main__\":\\n    countdown(3)\\n    print(randomly_greet(\"Alice\"))\\n    print(PLUGINS)', 'if __name__ == \"__main__\":\\n    countdown(3)\\n    print(randomly_greet(\"Alice\"))\\n    print(PLUGINS) # IMPT returns the dictionary\\n    print(globals()) # IMPT this gives access to all global variables, similar to PLUGINS'], 'Out': {}, 'get_ipython': <bound method InteractiveShell.get_ipython of <ipykernel.zmqshell.ZMQInteractiveShell object at 0x7f8525e84fd0>>, 'exit': <IPython.core.autocall.ZMQExitAutocall object at 0x7f8525e89690>, 'quit': <IPython.core.autocall.ZMQExitAutocall object at 0x7f8525e89690>, 'open': <function open at 0x7f85271e76a0>, '_': '', '__': '', '___': '', '__vsc_ipynb_file__': '/mnt/c/Users/rachm/OneDrive/Desktop/linux projects/nus_test/pydecorators/decorators.ipynb', '_i': 'if __name__ == \"__main__\":\\n    countdown(3)\\n    print(randomly_greet(\"Alice\"))\\n    print(PLUGINS)', '_ii': 'if __name__ == \"__main__\":\\n    countdown(3)\\n    randomly_greet(\"Alice\")', '_iii': 'if __name__ == \"__main__\":\\n    countdown(3)\\n    randomly_greet(\"Alice\")', '_i1': 'def say_hello(name):\\n    return f\"Hello {name}\"\\n\\ndef be_awesome(name):\\n    return f\"Yo {name}, together we are awesome\"\\n\\ndef greet_bob(greeter_func):\\n    return greeter_func(\"Bob\")', 'say_hello': <function say_hello at 0x7f8503f365c0>, 'be_awesome': <function be_awesome at 0x7f8503f37740>, 'greet_bob': <function greet_bob at 0x7f8525e7e980>, '_i2': 'def parent(num):\\n    def first_child():\\n        return \"Hi I am Emma\"\\n    def second_child():\\n        return \"Call me Liam\"\\n    \\n    if num == 1:\\n        return first_child\\n    else:\\n        return second_child', 'parent': <function parent at 0x7f8525e7dc60>, '_i3': '# SECTION simple decorators\\n\\ndef my_decorator(func):\\n    def wrapper():\\n        print(\"before func\")\\n        func()\\n        print(\"after func\")\\n    return wrapper\\n\\ndef say_whee2():\\n    print(\"whee\")\\n\\nsay_whee2 = my_decorator(say_whee2)', 'my_decorator': <function my_decorator at 0x7f8525e7eac0>, 'say_whee2': <function my_decorator.<locals>.wrapper at 0x7f8525e7ec00>, '_i4': '# SECTION reusing decorators\\ndef do_twice(func):\\n    def wrapper_do_twice(*args, **kwargs): #IMPT return a function that accepts arguements!\\n        func(*args, **kwargs)\\n        return func(*args, **kwargs) # IMPT this will allow the decorated function to continue returning values\\n    return wrapper_do_twice\\n\\n# call this from decorators2.py! SECTION go to decorators2.py', 'do_twice': <function do_twice at 0x7f8503f34720>, '_i5': 'if __name__ == \"__main__\":\\n    print(greet_bob(say_hello)) # Hello Bob\\n    print(greet_bob(be_awesome)) # Yo Bob, together we are awesome\\n\\n    print(parent(1)) # <function parent.<locals>.first_child at 0x7f885657a7a0>\\n    print(parent(2)) # <function parent.<locals>.second_child at 0x7f885657a830>\\n    print(parent(1)())\\n    print(parent(2)())\\n\\n    print(say_whee2()) # IMPT prints None at the end because say_whee2 is now wrapper which returns nothing\\n    print(say_whee2) # IMPT <function my_decorator.<locals>.wrapper at 0x7fb323e668c0>', '_i6': 'def do_twice(func):\\n    @functools.wraps(func) # IMPT \\n    def wrapper_do_twice(*args, **kwargs):\\n        func(*args, **kwargs)\\n        return func(*args, **kwargs)\\n    return wrapper_do_twice', '_i7': '@do_twice\\ndef say_whee():\\n    print(\"whee\")', '_i8': 'import functools\\ndef do_twice(func):\\n    @functools.wraps(func) # IMPT \\n    def wrapper_do_twice(*args, **kwargs):\\n        func(*args, **kwargs)\\n        return func(*args, **kwargs)\\n    return wrapper_do_twice', 'functools': <module 'functools' from '/home/rachtrx/anaconda3/lib/python3.11/functools.py'>, '_i9': '@do_twice\\ndef say_whee():\\n    print(\"whee\")', 'say_whee': <function say_whee at 0x7f8503f35120>, '_i10': 'if __name__ == \"__main__\":\\n    say_whee\\n    say_whee.__name__\\n    help(say_whee)\\n    say_whee()', '_i11': '# SECTION continuation from 1decorators\\nfrom decorators1 import do_twice\\n\\n@do_twice\\ndef say_whee():\\n    print(\"whee\")\\n\\n@do_twice\\ndef greet(name):\\n    print(f\"hello {name}\")', 'greet': <function do_twice.<locals>.wrapper_do_twice at 0x7f8503f35260>, '_i12': '# SECTION returning values from decorated functions\\n@do_twice\\ndef return_greeting(name):\\n    print(\"Creating greeting\")\\n    return f\"Hi {name}\" #IMPT this return statement means the wrapper in the decorator must return the original function', 'return_greeting': <function do_twice.<locals>.wrapper_do_twice at 0x7f8503f360c0>, '_i13': 'if __name__ == \"__main__\":\\n    say_whee()\\n    greet(\"world\") # IMPT this works because wrapper_do_twice that was returned accepts args and kwargs!\\n    hi_adam = return_greeting(\"Adam\")\\n    print(hi_adam)\\n\\n    #SECTION checking on __name__ and using ...\\n    print\\n    print.__name__\\n    help(print) # press \\'q\\' to continue\\n    # IMPT we can use this for defined functions\\n    say_whee\\n    say_whee.__name__\\n    help(say_whee) # IMPT Help on function wrapper_do_twice in module decorators1:wrapper_do_twice(*args, **kwargs)\\n    #IMPT we will see how we can change the name back in decorators3!', 'hi_adam': 'Hi Adam', '_i14': '# SECTION continuation from 1decorators\\n\\n@do_twice\\ndef say_whee():\\n    print(\"whee\")\\n\\n@do_twice\\ndef greet(name):\\n    print(f\"hello {name}\")', '_i15': '# SECTION returning values from decorated functions\\n@do_twice\\ndef return_greeting(name):\\n    print(\"Creating greeting\")\\n    return f\"Hi {name}\" #IMPT this return statement means the wrapper in the decorator must return the original function', '_i16': '# SECTION returning values from decorated functions\\n@do_twice\\ndef return_greeting(name):\\n    print(\"Creating greeting\")\\n    return f\"Hi {name}\" #IMPT this return statement means the wrapper in the decorator must return the original function', '_i17': 'if __name__ == \"__main__\":\\n    say_whee()\\n    greet(\"world\") # IMPT this works because wrapper_do_twice that was returned accepts args and kwargs!\\n    hi_adam = return_greeting(\"Adam\")\\n    print(hi_adam)\\n\\n    #SECTION checking on __name__ and using ...\\n    print\\n    print.__name__\\n    help(print) # press \\'q\\' to continue\\n    # IMPT we can use this for defined functions\\n    say_whee\\n    say_whee.__name__\\n    help(say_whee) # IMPT Help on function wrapper_do_twice in module decorators1:wrapper_do_twice(*args, **kwargs)\\n    #IMPT we will see how we can change the name back in decorators3!', '_i18': 'if __name__ == \"__main__\":\\n    say_whee()\\n    greet(\"world\") # IMPT this works because wrapper_do_twice that was returned accepts args and kwargs!\\n    hi_adam = return_greeting(\"Adam\")\\n    print(hi_adam)\\n\\n    #SECTION checking on __name__ and using ...\\n    print\\n    print.__name__\\n    help(print) # press \\'q\\' to continue\\n    # IMPT we can use this for defined functions\\n    say_whee\\n    say_whee.__name__\\n    help(say_whee) # IMPT Help on function wrapper_do_twice in module decorators1:wrapper_do_twice(*args, **kwargs)\\n    #IMPT we will see how we can change the name back in decorators3!', '_i19': 'import functools\\nimport time\\n\\n# SECTION make say_whee() to still be itself after decoration\\n\\ndef do_twice(func):\\n    @functools.wraps(func) # IMPT \\n    def wrapper_do_twice(*args, **kwargs):\\n        func(*args, **kwargs)\\n        return func(*args, **kwargs)\\n    return wrapper_do_twice', 'time': <module 'time' (built-in)>, '_i20': 'import functools\\nimport time\\n\\n# SECTION make say_whee() to still be itself after decoration\\n\\ndef do_twice(func):\\n    @functools.wraps(func) # IMPT \\n    def wrapper_do_twice(*args, **kwargs):\\n        func(*args, **kwargs)\\n        return func(*args, **kwargs)\\n    return wrapper_do_twice\\n\\n@do_twice\\ndef say_whee():\\n    print(\"whee\")', '_i21': '# SECTION IMPT a good boilerplate:\\ndef decorator(func):\\n    @functools.wraps(func)\\n    def wrapper_decorator(*args, **kwargs):\\n        # do something\\n        value = func(*args, **kwargs)\\n        # do something\\n        return value\\n    return wrapper_decorator', 'decorator': <function decorator at 0x7f8503f35d00>, '_i22': '# SECTION timer decorator\\ndef timer(func):\\n    \"\"\"Print the runtime of the decorated function\"\"\"\\n    @functools.wraps(func)\\n    def wrapper_timer(*args, **kwargs):\\n        start_time = time.perf_counter()\\n        value = func(*args, **kwargs)\\n        end_time = time.perf_counter()\\n        run_time = end_time - start_time\\n        print(f\"Finished {func.__name__!r} in {run_time:.4f} secs\")\\n        return value\\n    return wrapper_timer', 'timer': <function timer at 0x7f8503facea0>, '_i23': '# SECTION timer decorator\\ndef timer(func):\\n    \"\"\"Print the runtime of the decorated function\"\"\"\\n    @functools.wraps(func)\\n    def wrapper_timer(*args, **kwargs):\\n        start_time = time.perf_counter()\\n        value = func(*args, **kwargs)\\n        end_time = time.perf_counter()\\n        run_time = end_time - start_time\\n        print(f\"Finished {func.__name__!r} in {run_time:.4f} secs\")\\n        return value\\n    return wrapper_timer\\n\\n@timer\\ndef waste_some_time(num_times):\\n    for _ in range(num_times):\\n        sum([i**2 for i in range(10000)])', 'waste_some_time': <function waste_some_time at 0x7f8503facf40>, '_i24': 'if __name__ == \"__main__\":\\n    say_whee\\n    say_whee.__name__\\n    help(say_whee)\\n    say_whee()\\n    waste_some_time(1)\\n    waste_some_time(999)', '_i25': '# SECTION debugging code\\n\\nimport functools\\nimport math\\n\\ndef debug(func):\\n    @functools.wraps(func)\\n    def wrapper_debug(*args, **kwargs):\\n        args_repr = [repr(a) for a in args] #IMPT list of positional arguments in string\\n        kwargs_repr = [f\"{k}={v!r}\" for k, v in kwargs.items()] # IMPTTODOlist of keyyword arguments, !r means that repr() is used to represent the value\\n        signature = \", \".join(args_repr + kwargs_repr) #IMPT created by joining the string represenations of all arguments\\n        print(f\"Calling {func.__name__}({signature})\")\\n        value = func(*args, **kwargs)\\n        print(f\"Calling {func.__name__!r} returned {value!r}\")\\n        return value\\n    return wrapper_debug\\n\\n@debug\\ndef make_greeting(name, age = None):\\n    if age is None:\\n        return f\"Howdy {name}!\"\\n    else:\\n        return f\"Whoa {name}! {age} already, you are growing up!\"', 'math': <module 'math' from '/home/rachtrx/anaconda3/lib/python3.11/lib-dynload/math.cpython-311-x86_64-linux-gnu.so'>, 'debug': <function debug at 0x7f8503f37f60>, 'make_greeting': <function make_greeting at 0x7f8503f37e20>, '_i26': '# SECTION applying debug to math function\\nmath.factorial = debug(math.factorial) # same as using decorator!\\n\\ndef approximate_e(terms = 18):\\n    print(sum(1 / math.factorial(n) for n in range(terms)))', 'approximate_e': <function approximate_e at 0x7f8503f37c40>, '_i27': 'if __name__ == \"__main__\":\\n    make_greeting(\"Benjamin\")\\n    make_greeting(\"Richard\", age=112)\\n    make_greeting(name=\"Dorrisile\", age=116)\\n\\n    # IMPT this will print the factorial function 5 times!\\n    approximate_e(5)', '_i28': '# SECTION SLOWING DOWN CODE\\nimport functools\\nimport time\\ndef slow_down(func):\\n    \"\"\"Sleep 1 second before calling the function\"\"\"\\n    @functools.wraps(func)\\n    def wrapper_slow_down(*args, **kwargs):\\n        time.sleep(1)\\n        return func(*args, **kwargs)\\n    return wrapper_slow_down\\n\\n@slow_down\\ndef countdown(from_number):\\n    if from_number < 1:\\n        print(\"Liftoff!\")\\n    else:\\n        print(from_number)\\n        countdown(from_number - 1)', 'slow_down': <function slow_down at 0x7f8503f36200>, 'countdown': <function countdown at 0x7f8503f36480>, '_i29': '# SECTION register plugins', '_i30': 'if __name__ == \"__main__\":\\n    countdown(3)', '_i31': 'if __name__ == \"__main__\":\\n    countdown(3)\\n    randomly_greet(\"Alice\")', '_i32': '# SECTION register plugins\\n\\nimport random\\nPLUGINS = dict()\\n\\ndef register(func):\\n    \"\"\"Register a function as a plug-in\"\"\"\\n    PLUGINS[func.__name__] = func\\n    return func # just returns the original function\\n\\n@register\\ndef say_hello(name):\\n    return f\"Hello {name}\"\\n\\n@register\\ndef be_awesome(name):\\n    return f\"Yo {name}, together we are awesome\"\\n\\ndef randomly_greet(name):\\n    greeter, greeter_func = random.choice(list(PLUGINS.items()))\\n    print(f\"Using {greeter!r}\")\\n    return greeter_func(name)', 'random': <module 'random' from '/home/rachtrx/anaconda3/lib/python3.11/random.py'>, 'PLUGINS': {'say_hello': <function say_hello at 0x7f8503f365c0>, 'be_awesome': <function be_awesome at 0x7f8503f37740>}, 'register': <function register at 0x7f8503f371a0>, 'randomly_greet': <function randomly_greet at 0x7f8503f36ca0>, '_i33': 'if __name__ == \"__main__\":\\n    countdown(3)\\n    randomly_greet(\"Alice\")', '_i34': '# SECTION register plugins\\n\\nimport random\\nPLUGINS = dict()\\n\\ndef register(func):\\n    \"\"\"Register a function as a plug-in\"\"\"\\n    PLUGINS[func.__name__] = func\\n    return func # just returns the original function\\n\\n@register\\ndef say_hello(name):\\n    return f\"Hello {name}\"\\n\\n@register\\ndef be_awesome(name):\\n    return f\"Yo {name}, together we are awesome\"\\n\\ndef randomly_greet(name):\\n    greeter, greeter_func = random.choice(list(PLUGINS.items()))\\n    print(f\"Using {greeter!r}\")\\n    return greeter_func(name)', '_i35': 'if __name__ == \"__main__\":\\n    countdown(3)\\n    randomly_greet(\"Alice\")', '_i36': '# SECTION register plugins\\n\\nimport random\\nPLUGINS = dict()\\n\\ndef register(func):\\n    \"\"\"Register a function as a plug-in\"\"\"\\n    PLUGINS[func.__name__] = func\\n    return func\\n\\n@register\\ndef say_hello(name):\\n    return f\"Hello {name}\"\\n\\n@register\\ndef be_awesome(name):\\n    return f\"Yo {name}, together we are the awesomest!\"\\n\\ndef randomly_greet(name):\\n    greeter, greeter_func = random.choice(list(PLUGINS.items()))\\n    print(f\"Using {greeter!r}\")\\n    return greeter_func(name)', '_i37': 'if __name__ == \"__main__\":\\n    countdown(3)\\n    randomly_greet(\"Alice\")', '_i38': 'if __name__ == \"__main__\":\\n    countdown(3)\\n    randomly_greet(\"Alice\")', '_i39': '# SECTION register plugins\\n\\nimport random\\nPLUGINS = dict()\\n\\ndef register(func):\\n    \"\"\"Register a function as a plug-in\"\"\"\\n    PLUGINS[func.__name__] = func\\n    return func # just returns the original function\\n\\n@register\\ndef say_hello(name):\\n    return f\"Hello {name}\"\\n\\n@register\\ndef be_awesome(name):\\n    return f\"Yo {name}, together we are awesome\"\\n\\ndef randomly_greet(name):\\n    greeter, greeter_func = random.choice(list(PLUGINS.items()))\\n    print(f\"Using {greeter!r}\")\\n    print(greeter_func(name))', '_i40': 'if __name__ == \"__main__\":\\n    countdown(3)\\n    randomly_greet(\"Alice\")', '_i41': 'if __name__ == \"__main__\":\\n    countdown(3)\\n    randomly_greet(\"Alice\")', '_i42': 'if __name__ == \"__main__\":\\n    countdown(3)\\n    randomly_greet(\"Alice\")', '_i43': 'if __name__ == \"__main__\":\\n    countdown(3)\\n    print(randomly_greet(\"Alice\"))\\n    print(PLUGINS)', '_i44': 'if __name__ == \"__main__\":\\n    countdown(3)\\n    print(randomly_greet(\"Alice\"))\\n    print(PLUGINS) # IMPT returns the dictionary\\n    print(globals()) # IMPT this gives access to all global variables, similar to PLUGINS'}\n"
     ]
    }
   ],
   "source": [
    "if __name__ == \"__main__\":\n",
    "    countdown(3)\n",
    "    print(randomly_greet(\"Alice\"))\n",
    "    print(PLUGINS) # IMPT returns the dictionary\n",
    "    print(globals()) # IMPT this gives access to all global variables, similar to PLUGINS\n"
   ]
  },
  {
   "cell_type": "code",
   "execution_count": 49,
   "metadata": {},
   "outputs": [],
   "source": [
    "#SECTION user logged IMPT should use Flask-login extension instead\n",
    "\n",
    "from flask import Flask, g, request, redirect, url_for\n",
    "import functools\n",
    "app = Flask(__name__)\n",
    "\n",
    "def login_required(func):\n",
    "    \"\"\"Make sure user is logged in before proceeding\"\"\"\n",
    "    @functools.wraps(func)\n",
    "    def wrapper_login_required(*args, **kwargs):\n",
    "        if g.user is None:\n",
    "            return redirect(url_for(\"login\", next=request.url))\n",
    "        return func(*args, **kwargs)\n",
    "    return wrapper_login_required\n",
    "\n",
    "@app.route(\"/secret\")\n",
    "@login_required\n",
    "def secret():\n",
    "    ..."
   ]
  },
  {
   "cell_type": "markdown",
   "metadata": {},
   "source": [
    "# Fancy decorators"
   ]
  },
  {
   "cell_type": "markdown",
   "metadata": {},
   "source": [
    "### Decorating classes"
   ]
  },
  {
   "cell_type": "markdown",
   "metadata": {},
   "source": [
    "Some commonly used decorators that are even built-ins in Python are @classmethod, @staticmethod, and @property. The @classmethod and @staticmethod decorators are used to define methods inside a class namespace that are not connected to a particular instance of that class. The @property decorator is used to customize getters and setters for class attributes."
   ]
  },
  {
   "cell_type": "code",
   "execution_count": 54,
   "metadata": {},
   "outputs": [],
   "source": [
    "# SECTION @classmethod, @staticmethod, @property\n",
    "\n",
    "class Circle:\n",
    "    def __init__(self, radius):\n",
    "        self._radius = radius\n",
    "\n",
    "    @property\n",
    "    def radius(self):\n",
    "        \"\"\"Get value of radius\"\"\"\n",
    "        return self._radius\n",
    "    \n",
    "    @radius.setter\n",
    "    def radius(self, value):\n",
    "        \"\"\"Set radius, raise error if negative\"\"\"\n",
    "        if value >= 0:\n",
    "            self._radius = value\n",
    "        else:\n",
    "            raise ValueError(\"Radius must be positive\")\n",
    "        \n",
    "    @property\n",
    "    def area(self):\n",
    "        \"\"\"Calculate area inside circle\"\"\"\n",
    "        return self.pi() * self.radius**2\n",
    "    \n",
    "    def cylinder_volume(self, height):\n",
    "        \"\"\"Calculate volume of cylinder with circle as base\"\"\"\n",
    "        return self.area * height\n",
    "    \n",
    "    @classmethod # IMPT does not take into account the instance. Can call with or without instance, the class is passed and the instance if passed it DROPPED\n",
    "    def unit_circle(cls):\n",
    "        \"\"\"Factory method creating a circle with radius 1\"\"\"\n",
    "        return cls(1)\n",
    "    \n",
    "    @staticmethod # IMPT does not take into account the class AND instance. Can call with or without instance but both class and instance will be DROPPED \n",
    "    def pi():\n",
    "        \"\"\"Value of pi, could use math.pi though\"\"\"\n",
    "        return 3.1415926535\n",
    "\n"
   ]
  },
  {
   "cell_type": "markdown",
   "metadata": {},
   "source": [
    ".unit_circle() is a class method. It’s not bound to one particular instance of Circle. Class methods are often used as factory methods that can create specific instances of the class.\n",
    "\n",
    ".pi() is a static method. It’s not really dependent on the Circle class, except that it is part of its namespace. Static methods can be called on either an instance or the class."
   ]
  },
  {
   "cell_type": "code",
   "execution_count": 57,
   "metadata": {},
   "outputs": [
    {
     "name": "stdout",
     "output_type": "stream",
     "text": [
      "5\n",
      "78.5398163375\n",
      "12.566370614\n",
      "50.265482456\n",
      "1\n",
      "3.1415926535\n",
      "3.1415926535\n"
     ]
    }
   ],
   "source": [
    "c = Circle(5)\n",
    "print(c.radius)\n",
    "print(c.area)\n",
    "c.radius = 2\n",
    "print(c.area)\n",
    "# c.area = 100 cannot be set!\n",
    "print(c.cylinder_volume(height = 4))\n",
    "# c.radius = -1 cannot be set!\n",
    "c = Circle.unit_circle() # IMPT factory method\n",
    "print(c.radius)\n",
    "print(c.pi())\n",
    "print(Circle.pi())"
   ]
  },
  {
   "cell_type": "markdown",
   "metadata": {},
   "source": [
    "1. Custom decorators for classes:"
   ]
  },
  {
   "cell_type": "code",
   "execution_count": 65,
   "metadata": {},
   "outputs": [
    {
     "name": "stdout",
     "output_type": "stream",
     "text": [
      "Calling __init__(<__main__.TimeWaster object at 0x7f8503f8e890>, 1000)\n",
      "Calling '__init__' returned None\n",
      "<__main__.TimeWaster object at 0x7f8503f8e890>\n",
      "<bound method TimeWaster.waste_time of <__main__.TimeWaster object at 0x7f8503f8e890>>\n",
      "Finished 'waste_time' in 0.0311 secs\n",
      "None\n"
     ]
    }
   ],
   "source": [
    "# need to run debug and timer first!\n",
    "\n",
    "class TimeWaster:\n",
    "    @debug\n",
    "    def __init__(self, max_num):\n",
    "        self.max_num = max_num\n",
    "\n",
    "    @timer\n",
    "    def waste_time(self, num_times):\n",
    "        for _ in range(num_times):\n",
    "            sum([i**2 for i in range(self.max_num)])\n",
    "\n",
    "tw = TimeWaster(1000)\n",
    "print(tw)\n",
    "print(tw.waste_time)\n",
    "print(tw.waste_time(999))\n",
    "\n",
    "# Calling __init__(<__main__.TimeWaster object at 0x7f850384dcd0>, 1000)\n",
    "# Calling '__init__' returned None\n",
    "# <__main__.TimeWaster object at 0x7f850384dcd0>\n",
    "# <bound method TimeWaster.waste_time of <__main__.TimeWaster object at 0x7f850384dcd0>>\n",
    "# Finished 'waste_time' in 0.0295 secs\n",
    "# None"
   ]
  },
  {
   "cell_type": "markdown",
   "metadata": {},
   "source": [
    "2. Decorate the whole class"
   ]
  },
  {
   "cell_type": "code",
   "execution_count": 66,
   "metadata": {},
   "outputs": [],
   "source": [
    "from dataclasses import dataclass\n",
    "\n",
    "@dataclass\n",
    "class PlayingCard:\n",
    "    rank: str\n",
    "    suit: str"
   ]
  },
  {
   "cell_type": "markdown",
   "metadata": {},
   "source": [
    "The meaning of the syntax is similar to the function decorators. In the example above, you could have done the decoration by writing PlayingCard = dataclass(PlayingCard).\n",
    "\n",
    "A common use of class decorators is to be a simpler alternative to some use-cases of metaclasses. In both cases, you are changing the definition of a class dynamically.\n",
    "\n",
    "Writing a class decorator is very similar to writing a function decorator. The only difference is that the decorator will receive a class and not a function as an argument. In fact, all the decorators you saw above will work as class decorators. When you are using them on a class instead of a function, their effect might not be what you want. In the following example, the @timer decorator is applied to a class:"
   ]
  },
  {
   "cell_type": "code",
   "execution_count": 67,
   "metadata": {},
   "outputs": [],
   "source": [
    "@timer\n",
    "class TimeWaster:\n",
    "    def __init__(self, max_num):\n",
    "        self.max_num = max_num\n",
    "\n",
    "    def waste_time(self, num_times):\n",
    "        for _ in range(num_times):\n",
    "            sum([i**2 for i in range(self.max_num)])"
   ]
  },
  {
   "cell_type": "markdown",
   "metadata": {},
   "source": [
    "Decorating a class does not decorate its methods. Recall that @timer is just shorthand for TimeWaster = timer(TimeWaster).\n",
    "\n",
    "Here, @timer only measures the time it takes to instantiate the class:"
   ]
  },
  {
   "cell_type": "code",
   "execution_count": 68,
   "metadata": {},
   "outputs": [
    {
     "name": "stdout",
     "output_type": "stream",
     "text": [
      "Finished 'TimeWaster' in 0.0000 secs\n"
     ]
    }
   ],
   "source": [
    "tw = TimeWaster(1000)\n",
    "tw.waste_time(999)"
   ]
  },
  {
   "cell_type": "markdown",
   "metadata": {},
   "source": [
    "## Nesting decorators"
   ]
  },
  {
   "cell_type": "code",
   "execution_count": 70,
   "metadata": {},
   "outputs": [
    {
     "name": "stdout",
     "output_type": "stream",
     "text": [
      "Calling greet('Eva')\n",
      "Hello Eva\n",
      "Hello Eva\n",
      "Calling 'greet' returned None\n"
     ]
    }
   ],
   "source": [
    "@debug\n",
    "@do_twice\n",
    "def greet(name):\n",
    "    print(f\"Hello {name}\")\n",
    "\n",
    "greet(\"Eva\")"
   ]
  },
  {
   "cell_type": "markdown",
   "metadata": {},
   "source": [
    "@debug calls @do_twice, which calls greet(), or debug(do_twice(greet())):\n",
    "\n",
    "Swapping them applies @do_twice on @debug as well"
   ]
  },
  {
   "cell_type": "code",
   "execution_count": 72,
   "metadata": {},
   "outputs": [
    {
     "name": "stdout",
     "output_type": "stream",
     "text": [
      "Calling greet('Eva')\n",
      "Hello Eva\n",
      "Calling 'greet' returned None\n",
      "Calling greet('Eva')\n",
      "Hello Eva\n",
      "Calling 'greet' returned None\n"
     ]
    }
   ],
   "source": [
    "@do_twice\n",
    "@debug\n",
    "def greet(name):\n",
    "    print(f\"Hello {name}\")\n",
    "\n",
    "greet(\"Eva\")"
   ]
  }
 ],
 "metadata": {
  "kernelspec": {
   "display_name": "base",
   "language": "python",
   "name": "python3"
  },
  "language_info": {
   "codemirror_mode": {
    "name": "ipython",
    "version": 3
   },
   "file_extension": ".py",
   "mimetype": "text/x-python",
   "name": "python",
   "nbconvert_exporter": "python",
   "pygments_lexer": "ipython3",
   "version": "3.11.4"
  },
  "orig_nbformat": 4
 },
 "nbformat": 4,
 "nbformat_minor": 2
}
